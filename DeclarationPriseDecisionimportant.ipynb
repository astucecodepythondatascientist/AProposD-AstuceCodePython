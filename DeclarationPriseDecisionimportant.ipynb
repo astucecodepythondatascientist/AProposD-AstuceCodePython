{
 "cells": [
  {
   "cell_type": "markdown",
   "metadata": {},
   "source": [
    "# Astuce De Code Python Pour la Mise en Production \n",
    "\n",
    "![Alt text](logo-06.png) "
   ]
  },
  {
   "cell_type": "markdown",
   "metadata": {},
   "source": [
    "![Alt text](<Capture d’écran 2024-06-02 à 12.24.14.png>)"
   ]
  },
  {
   "cell_type": "markdown",
   "metadata": {},
   "source": [
    "# If statement "
   ]
  },
  {
   "cell_type": "markdown",
   "metadata": {},
   "source": [
    "if                                else\n",
    "\n",
    "\n",
    "it's raining :                    go out and play\n",
    " sit inside \n",
    "\n",
    "\n",
    "\n",
    "if                                else \n",
    "\n",
    "\n",
    "marks > 10:                     give practice test \n",
    "Get ice-cream\n"
   ]
  },
  {
   "cell_type": "code",
   "execution_count": 13,
   "metadata": {},
   "outputs": [
    {
     "name": "stdout",
     "output_type": "stream",
     "text": [
      "b is greater than a \n"
     ]
    }
   ],
   "source": [
    "a=10\n",
    "b=20\n",
    "if a>b:\n",
    "    print(\"a is greater than b\")\n",
    "if b >a:\n",
    "    print(\"b is greater than a \")"
   ]
  },
  {
   "cell_type": "code",
   "execution_count": 14,
   "metadata": {},
   "outputs": [
    {
     "name": "stdout",
     "output_type": "stream",
     "text": [
      "a is not greater than b\n"
     ]
    }
   ],
   "source": [
    "if a > b:\n",
    "    print(\"a is greater than b\")\n",
    "else:\n",
    "    print(\"a is not greater than b\")"
   ]
  },
  {
   "cell_type": "markdown",
   "metadata": {},
   "source": [
    "## else if \n",
    "We will use it when we want to check the multiple statements"
   ]
  },
  {
   "cell_type": "code",
   "execution_count": 15,
   "metadata": {},
   "outputs": [
    {
     "name": "stdout",
     "output_type": "stream",
     "text": [
      "c is greatest\n"
     ]
    }
   ],
   "source": [
    "a=10\n",
    "b=20\n",
    "c=30\n",
    "if (a>b & a >c):\n",
    "    print(\"a is greatest\")\n",
    "elif (b >a & b>c):\n",
    "    print(\"b is the greatest\")\n",
    "else:\n",
    "    print(\"c is greatest\")"
   ]
  },
  {
   "cell_type": "markdown",
   "metadata": {},
   "source": [
    "* Now can see how can we use this conditional statements with data structures ( List , Tuple and dictionnary or sets)"
   ]
  },
  {
   "cell_type": "markdown",
   "metadata": {},
   "source": [
    "### With tuple (if with tuple)"
   ]
  },
  {
   "cell_type": "code",
   "execution_count": 16,
   "metadata": {},
   "outputs": [
    {
     "name": "stdout",
     "output_type": "stream",
     "text": [
      "2 is prsenet in tuple\n"
     ]
    }
   ],
   "source": [
    "tup1=(1,2,3,4)\n",
    "\n",
    "if 2 in tup1:\n",
    "    print(\"2 is prsenet in tuple\")"
   ]
  },
  {
   "cell_type": "code",
   "execution_count": 18,
   "metadata": {},
   "outputs": [
    {
     "name": "stdout",
     "output_type": "stream",
     "text": [
      "6 is not present in tuple\n"
     ]
    }
   ],
   "source": [
    "tup1=(1,2,3,4)\n",
    "\n",
    "if 6 in tup1:\n",
    "    print(\"6 is prsenet in tuple\")\n",
    "else:\n",
    "    print(\"6 is not present in tuple\")"
   ]
  },
  {
   "cell_type": "markdown",
   "metadata": {},
   "source": [
    "### With list (if with list)"
   ]
  },
  {
   "cell_type": "code",
   "execution_count": 20,
   "metadata": {},
   "outputs": [
    {
     "data": {
      "text/plain": [
       "[1, 102, 3, 4, 5]"
      ]
     },
     "execution_count": 20,
     "metadata": {},
     "output_type": "execute_result"
    }
   ],
   "source": [
    "L1 = [1,2,3,4,5]\n",
    "\n",
    "if L1[1]==2 :\n",
    "    L1[1]=L1[1] + 100 \n",
    "L1"
   ]
  },
  {
   "cell_type": "code",
   "execution_count": 21,
   "metadata": {},
   "outputs": [
    {
     "data": {
      "text/plain": [
       "[1, 2, 3, 4, 505]"
      ]
     },
     "execution_count": 21,
     "metadata": {},
     "output_type": "execute_result"
    }
   ],
   "source": [
    "L1 = [1,2,3,4,5]\n",
    "\n",
    "if L1[4]==10 :\n",
    "    L1[1]=L1[1] + 100\n",
    "else:\n",
    "    L1[4]=L1[4] + 500 \n",
    "\n",
    "L1"
   ]
  },
  {
   "cell_type": "markdown",
   "metadata": {},
   "source": [
    "### if With dictionary "
   ]
  },
  {
   "cell_type": "code",
   "execution_count": 22,
   "metadata": {},
   "outputs": [
    {
     "data": {
      "text/plain": [
       "{'a': 1, 'b': 102, 'c': 3}"
      ]
     },
     "execution_count": 22,
     "metadata": {},
     "output_type": "execute_result"
    }
   ],
   "source": [
    "d1 = {\"a\":1,\"b\":2,\"c\":3}\n",
    "\n",
    "if d1[\"b\"]==2:\n",
    "   d1[\"b\"]= d1[\"b\"] + 100\n",
    "d1 "
   ]
  },
  {
   "cell_type": "markdown",
   "metadata": {},
   "source": [
    "# If ----else pseudo code "
   ]
  },
  {
   "cell_type": "markdown",
   "metadata": {},
   "source": [
    "if(condition){\n",
    "    statements to be executed\n",
    "}\n",
    "\n",
    "\n",
    "\n",
    "else {\n",
    "    statements to be executed \n",
    "}\n",
    "\n",
    "if the \"if\" condition is true \n",
    "\n",
    "at that time it will execute the statements \n",
    "\n",
    "inside if \n",
    "\n",
    "else if it is false \n",
    "It will execute the statements inside else "
   ]
  },
  {
   "cell_type": "markdown",
   "metadata": {},
   "source": []
  },
  {
   "cell_type": "markdown",
   "metadata": {},
   "source": [
    "# Looping statements \n",
    "are used to repeat a task multiple times \n",
    "while , repeat , each "
   ]
  },
  {
   "cell_type": "markdown",
   "metadata": {},
   "source": [
    "# While loop pseudo code "
   ]
  },
  {
   "cell_type": "markdown",
   "metadata": {},
   "source": [
    "while(TRUE){\n",
    "    keep executing statements\n",
    "}"
   ]
  },
  {
   "cell_type": "code",
   "execution_count": null,
   "metadata": {},
   "outputs": [],
   "source": [
    "if "
   ]
  }
 ],
 "metadata": {
  "kernelspec": {
   "display_name": "Python 3",
   "language": "python",
   "name": "python3"
  },
  "language_info": {
   "codemirror_mode": {
    "name": "ipython",
    "version": 3
   },
   "file_extension": ".py",
   "mimetype": "text/x-python",
   "name": "python",
   "nbconvert_exporter": "python",
   "pygments_lexer": "ipython3",
   "version": "3.12.0"
  }
 },
 "nbformat": 4,
 "nbformat_minor": 2
}
